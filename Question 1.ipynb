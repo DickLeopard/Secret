{
 "cells": [
  {
   "cell_type": "code",
   "execution_count": 1,
   "metadata": {
    "collapsed": true
   },
   "outputs": [],
   "source": [
    "import psycopg2\n",
    "import pymongo\n",
    "import numpy as np\n",
    "import pandas as pd\n",
    "\n",
    "conn = psycopg2.connect(\"dbname=mydb user=postgres\")\n",
    "cur = conn.cursor()\n",
    "\n",
    "connection = pymongo.MongoClient()\n",
    "db = connection.test\n",
    "following = db.following\n",
    "\n",
    "# Import MongoDB and PostgreSQL API and connect to server"
   ]
  },
  {
   "cell_type": "code",
   "execution_count": 2,
   "metadata": {
    "collapsed": false
   },
   "outputs": [
    {
     "data": {
      "text/plain": [
       "<pymongo.results.DeleteResult at 0x1073b4410>"
      ]
     },
     "execution_count": 2,
     "metadata": {},
     "output_type": "execute_result"
    }
   ],
   "source": [
    "cur.execute(\"DELETE FROM following\")\n",
    "conn.commit()\n",
    "# Clear psql table named following\n",
    "\n",
    "following.delete_many({})\n",
    "# Clear mongodb collection named following"
   ]
  },
  {
   "cell_type": "code",
   "execution_count": 3,
   "metadata": {
    "collapsed": true
   },
   "outputs": [],
   "source": [
    "for x in xrange(500):\n",
    "    cur.execute(\"INSERT INTO following (followee_id, follower_id) VALUES (%s, %s)\", \n",
    "                (np.random.randint(1,101), np.random.randint(1,101)))\n",
    "conn.commit()\n",
    "# Insert random interger 1 ~ 100 as followee's id and follower's id in psql\n",
    "\n",
    "for x in xrange(500):\n",
    "    following.insert_one({\"followee_id\": np.random.randint(1,101), \n",
    "                          \"follower_id\": np.random.randint(1,101)})\n",
    "# Insert random interger 1 ~ 100 as followee's id and follower's id in mongodb"
   ]
  },
  {
   "cell_type": "code",
   "execution_count": 4,
   "metadata": {
    "collapsed": false
   },
   "outputs": [
    {
     "data": {
      "text/plain": [
       "[(12, 46), (56, 17), (88, 16), (14, 55), (93, 34), (49, 66)]"
      ]
     },
     "execution_count": 4,
     "metadata": {},
     "output_type": "execute_result"
    }
   ],
   "source": [
    "cur.execute(\"SELECT * FROM following LIMIt 6;\")\n",
    "cur.fetchall()\n",
    "# Have a look at the data in psql"
   ]
  },
  {
   "cell_type": "code",
   "execution_count": 5,
   "metadata": {
    "collapsed": false
   },
   "outputs": [
    {
     "name": "stdout",
     "output_type": "stream",
     "text": [
      "{u'follower_id': 55, u'_id': ObjectId('55b9320a44204945d4f19176'), u'followee_id': 78}\n",
      "{u'follower_id': 9, u'_id': ObjectId('55b9320a44204945d4f19177'), u'followee_id': 37}\n",
      "{u'follower_id': 51, u'_id': ObjectId('55b9320a44204945d4f19178'), u'followee_id': 49}\n",
      "{u'follower_id': 57, u'_id': ObjectId('55b9320a44204945d4f19179'), u'followee_id': 93}\n",
      "{u'follower_id': 59, u'_id': ObjectId('55b9320a44204945d4f1917a'), u'followee_id': 87}\n",
      "{u'follower_id': 80, u'_id': ObjectId('55b9320a44204945d4f1917b'), u'followee_id': 4}\n"
     ]
    }
   ],
   "source": [
    "a = following.find().limit(6)\n",
    "for x in a:\n",
    "    print x\n",
    "# Have a look at the data in mongodb"
   ]
  },
  {
   "cell_type": "code",
   "execution_count": 6,
   "metadata": {
    "collapsed": true
   },
   "outputs": [],
   "source": [
    "followee_id = range(1,101)\n",
    "follower_2nd_degree_psql = []\n",
    "for x in xrange(1,101):\n",
    "    cur.execute(\"\"\"SELECT DISTINCT follower_id FROM following WHERE followee_id in (\n",
    "                   SELECT DISTINCT follower_id FROM following WHERE followee_id = %d)\"\"\" %x)\n",
    "    follower_2nd_degree_psql.append(len(cur.fetchall()))\n",
    "# Query the 2nd degree follower for each followee and count the number in psql"
   ]
  },
  {
   "cell_type": "code",
   "execution_count": 7,
   "metadata": {
    "collapsed": true
   },
   "outputs": [],
   "source": [
    "follower_2nd_degree_mongo = []\n",
    "for x in xrange(1,101):\n",
    "    follower_1st = following.distinct(\"follower_id\", {\"followee_id\": x})\n",
    "    follower_2nd = following.distinct(\"follower_id\", {\"followee_id\": {\"$in\": follower_1st}})\n",
    "    follower_2nd_degree_mongo.append(len(follower_2nd))\n",
    "# Query the 2nd degree follower for each followee and count the number in mongodb"
   ]
  },
  {
   "cell_type": "code",
   "execution_count": 8,
   "metadata": {
    "collapsed": false
   },
   "outputs": [
    {
     "data": {
      "text/html": [
       "<div style=\"max-height:1000px;max-width:1500px;overflow:auto;\">\n",
       "<table border=\"1\" class=\"dataframe\">\n",
       "  <thead>\n",
       "    <tr style=\"text-align: right;\">\n",
       "      <th></th>\n",
       "      <th>followee_id</th>\n",
       "      <th>follower_2nd_degree_count</th>\n",
       "    </tr>\n",
       "  </thead>\n",
       "  <tbody>\n",
       "    <tr>\n",
       "      <th>0</th>\n",
       "      <td>  1</td>\n",
       "      <td>  5</td>\n",
       "    </tr>\n",
       "    <tr>\n",
       "      <th>1</th>\n",
       "      <td>  2</td>\n",
       "      <td> 24</td>\n",
       "    </tr>\n",
       "    <tr>\n",
       "      <th>2</th>\n",
       "      <td>  3</td>\n",
       "      <td> 18</td>\n",
       "    </tr>\n",
       "    <tr>\n",
       "      <th>3</th>\n",
       "      <td>  4</td>\n",
       "      <td> 28</td>\n",
       "    </tr>\n",
       "    <tr>\n",
       "      <th>4</th>\n",
       "      <td>  5</td>\n",
       "      <td> 28</td>\n",
       "    </tr>\n",
       "    <tr>\n",
       "      <th>5</th>\n",
       "      <td>  6</td>\n",
       "      <td> 11</td>\n",
       "    </tr>\n",
       "    <tr>\n",
       "      <th>6</th>\n",
       "      <td>  7</td>\n",
       "      <td> 21</td>\n",
       "    </tr>\n",
       "    <tr>\n",
       "      <th>7</th>\n",
       "      <td>  8</td>\n",
       "      <td> 11</td>\n",
       "    </tr>\n",
       "    <tr>\n",
       "      <th>8</th>\n",
       "      <td>  9</td>\n",
       "      <td> 10</td>\n",
       "    </tr>\n",
       "    <tr>\n",
       "      <th>9</th>\n",
       "      <td> 10</td>\n",
       "      <td>  9</td>\n",
       "    </tr>\n",
       "  </tbody>\n",
       "</table>\n",
       "</div>"
      ],
      "text/plain": [
       "   followee_id  follower_2nd_degree_count\n",
       "0            1                          5\n",
       "1            2                         24\n",
       "2            3                         18\n",
       "3            4                         28\n",
       "4            5                         28\n",
       "5            6                         11\n",
       "6            7                         21\n",
       "7            8                         11\n",
       "8            9                         10\n",
       "9           10                          9"
      ]
     },
     "execution_count": 8,
     "metadata": {},
     "output_type": "execute_result"
    }
   ],
   "source": [
    "d_psql = {\"followee_id\" : followee_id, \n",
    "          \"follower_2nd_degree_count\" : follower_2nd_degree_psql}\n",
    "pd.DataFrame(d_psql).head(10)\n",
    "# Show the number of 2nd degree follower for each followee in pandas dataframe, using psql"
   ]
  },
  {
   "cell_type": "code",
   "execution_count": 9,
   "metadata": {
    "collapsed": false
   },
   "outputs": [
    {
     "data": {
      "text/html": [
       "<div style=\"max-height:1000px;max-width:1500px;overflow:auto;\">\n",
       "<table border=\"1\" class=\"dataframe\">\n",
       "  <thead>\n",
       "    <tr style=\"text-align: right;\">\n",
       "      <th></th>\n",
       "      <th>followee_id</th>\n",
       "      <th>follower_2nd_degree_count</th>\n",
       "    </tr>\n",
       "  </thead>\n",
       "  <tbody>\n",
       "    <tr>\n",
       "      <th>0</th>\n",
       "      <td>  1</td>\n",
       "      <td> 21</td>\n",
       "    </tr>\n",
       "    <tr>\n",
       "      <th>1</th>\n",
       "      <td>  2</td>\n",
       "      <td>  7</td>\n",
       "    </tr>\n",
       "    <tr>\n",
       "      <th>2</th>\n",
       "      <td>  3</td>\n",
       "      <td> 23</td>\n",
       "    </tr>\n",
       "    <tr>\n",
       "      <th>3</th>\n",
       "      <td>  4</td>\n",
       "      <td> 40</td>\n",
       "    </tr>\n",
       "    <tr>\n",
       "      <th>4</th>\n",
       "      <td>  5</td>\n",
       "      <td> 19</td>\n",
       "    </tr>\n",
       "    <tr>\n",
       "      <th>5</th>\n",
       "      <td>  6</td>\n",
       "      <td> 27</td>\n",
       "    </tr>\n",
       "    <tr>\n",
       "      <th>6</th>\n",
       "      <td>  7</td>\n",
       "      <td> 11</td>\n",
       "    </tr>\n",
       "    <tr>\n",
       "      <th>7</th>\n",
       "      <td>  8</td>\n",
       "      <td> 23</td>\n",
       "    </tr>\n",
       "    <tr>\n",
       "      <th>8</th>\n",
       "      <td>  9</td>\n",
       "      <td> 15</td>\n",
       "    </tr>\n",
       "    <tr>\n",
       "      <th>9</th>\n",
       "      <td> 10</td>\n",
       "      <td> 23</td>\n",
       "    </tr>\n",
       "  </tbody>\n",
       "</table>\n",
       "</div>"
      ],
      "text/plain": [
       "   followee_id  follower_2nd_degree_count\n",
       "0            1                         21\n",
       "1            2                          7\n",
       "2            3                         23\n",
       "3            4                         40\n",
       "4            5                         19\n",
       "5            6                         27\n",
       "6            7                         11\n",
       "7            8                         23\n",
       "8            9                         15\n",
       "9           10                         23"
      ]
     },
     "execution_count": 9,
     "metadata": {},
     "output_type": "execute_result"
    }
   ],
   "source": [
    "d_mongo = {\"followee_id\" : followee_id, \n",
    "           \"follower_2nd_degree_count\" : follower_2nd_degree_mongo}\n",
    "pd.DataFrame(d_mongo).head(10)\n",
    "# Show the number of 2nd degree follower for each followee in pandas dataframe, using mongodb"
   ]
  },
  {
   "cell_type": "code",
   "execution_count": null,
   "metadata": {
    "collapsed": true
   },
   "outputs": [],
   "source": [
    "# Notes: 1. Someone in the list of 2nd degree follower are also a 1st degree follower, I didn't \n",
    "#           exclude them. \n",
    "#        2. The result from postgresql and mongodb shown in pandas dataframe are not the same \n",
    "#           because I insert data into their servers respectively with random integers. "
   ]
  }
 ],
 "metadata": {
  "kernelspec": {
   "display_name": "Python 2",
   "language": "python",
   "name": "python2"
  },
  "language_info": {
   "codemirror_mode": {
    "name": "ipython",
    "version": 2
   },
   "file_extension": ".py",
   "mimetype": "text/x-python",
   "name": "python",
   "nbconvert_exporter": "python",
   "pygments_lexer": "ipython2",
   "version": "2.7.9"
  }
 },
 "nbformat": 4,
 "nbformat_minor": 0
}
