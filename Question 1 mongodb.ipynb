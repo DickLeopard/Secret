{
 "cells": [
  {
   "cell_type": "code",
   "execution_count": 1,
   "metadata": {
    "collapsed": true
   },
   "outputs": [],
   "source": [
    "import pymongo\n",
    "import numpy as np\n",
    "import pandas as pd\n",
    "\n",
    "connection = pymongo.MongoClient()\n",
    "db = connection.test\n",
    "following = db.following"
   ]
  },
  {
   "cell_type": "code",
   "execution_count": 2,
   "metadata": {
    "collapsed": false
   },
   "outputs": [
    {
     "data": {
      "text/plain": [
       "<pymongo.results.DeleteResult at 0x106d62910>"
      ]
     },
     "execution_count": 2,
     "metadata": {},
     "output_type": "execute_result"
    }
   ],
   "source": [
    "following.delete_many({})"
   ]
  },
  {
   "cell_type": "code",
   "execution_count": 3,
   "metadata": {
    "collapsed": false
   },
   "outputs": [],
   "source": [
    "for x in xrange(1000):\n",
    "    following.insert_one({\"followee_id\": np.random.randint(101), \n",
    "                          \"follower_id\": np.random.randint(101)})"
   ]
  },
  {
   "cell_type": "code",
   "execution_count": 4,
   "metadata": {
    "collapsed": false
   },
   "outputs": [
    {
     "name": "stdout",
     "output_type": "stream",
     "text": [
      "{u'follower_id': 85, u'_id': ObjectId('55b918f34420494459c3497a'), u'followee_id': 49}\n",
      "{u'follower_id': 30, u'_id': ObjectId('55b918f34420494459c3497b'), u'followee_id': 10}\n",
      "{u'follower_id': 74, u'_id': ObjectId('55b918f34420494459c3497c'), u'followee_id': 5}\n",
      "{u'follower_id': 75, u'_id': ObjectId('55b918f34420494459c3497d'), u'followee_id': 17}\n",
      "{u'follower_id': 69, u'_id': ObjectId('55b918f44420494459c3497e'), u'followee_id': 48}\n",
      "{u'follower_id': 43, u'_id': ObjectId('55b918f44420494459c3497f'), u'followee_id': 74}\n"
     ]
    }
   ],
   "source": [
    "a = following.find().limit(6)\n",
    "for x in a:\n",
    "    print x"
   ]
  },
  {
   "cell_type": "code",
   "execution_count": 5,
   "metadata": {
    "collapsed": true
   },
   "outputs": [],
   "source": [
    "followee_id = range(1,101)\n",
    "follower_2nd_degree = []\n",
    "for x in xrange(1,101):\n",
    "    follower_1st = following.distinct(\"follower_id\", {\"followee_id\": x})\n",
    "    follower_2nd = following.distinct(\"follower_id\", {\"followee_id\": {\"$in\": follower_1st}})\n",
    "    follower_2nd_degree.append(len(follower_2nd))"
   ]
  },
  {
   "cell_type": "code",
   "execution_count": 6,
   "metadata": {
    "collapsed": true
   },
   "outputs": [],
   "source": [
    "d = {\"followee_id\" : followee_id, \n",
    "     \"follower_2nd_degree_count\" : follower_2nd_degree}"
   ]
  },
  {
   "cell_type": "code",
   "execution_count": 7,
   "metadata": {
    "collapsed": false
   },
   "outputs": [
    {
     "data": {
      "text/html": [
       "<div style=\"max-height:1000px;max-width:1500px;overflow:auto;\">\n",
       "<table border=\"1\" class=\"dataframe\">\n",
       "  <thead>\n",
       "    <tr style=\"text-align: right;\">\n",
       "      <th></th>\n",
       "      <th>followee_id</th>\n",
       "      <th>follower_2nd_degree_count</th>\n",
       "    </tr>\n",
       "  </thead>\n",
       "  <tbody>\n",
       "    <tr>\n",
       "      <th>0</th>\n",
       "      <td>  1</td>\n",
       "      <td> 55</td>\n",
       "    </tr>\n",
       "    <tr>\n",
       "      <th>1</th>\n",
       "      <td>  2</td>\n",
       "      <td> 60</td>\n",
       "    </tr>\n",
       "    <tr>\n",
       "      <th>2</th>\n",
       "      <td>  3</td>\n",
       "      <td> 77</td>\n",
       "    </tr>\n",
       "    <tr>\n",
       "      <th>3</th>\n",
       "      <td>  4</td>\n",
       "      <td> 50</td>\n",
       "    </tr>\n",
       "    <tr>\n",
       "      <th>4</th>\n",
       "      <td>  5</td>\n",
       "      <td> 58</td>\n",
       "    </tr>\n",
       "    <tr>\n",
       "      <th>5</th>\n",
       "      <td>  6</td>\n",
       "      <td> 69</td>\n",
       "    </tr>\n",
       "    <tr>\n",
       "      <th>6</th>\n",
       "      <td>  7</td>\n",
       "      <td> 29</td>\n",
       "    </tr>\n",
       "    <tr>\n",
       "      <th>7</th>\n",
       "      <td>  8</td>\n",
       "      <td> 50</td>\n",
       "    </tr>\n",
       "    <tr>\n",
       "      <th>8</th>\n",
       "      <td>  9</td>\n",
       "      <td> 71</td>\n",
       "    </tr>\n",
       "    <tr>\n",
       "      <th>9</th>\n",
       "      <td> 10</td>\n",
       "      <td> 43</td>\n",
       "    </tr>\n",
       "  </tbody>\n",
       "</table>\n",
       "</div>"
      ],
      "text/plain": [
       "   followee_id  follower_2nd_degree_count\n",
       "0            1                         55\n",
       "1            2                         60\n",
       "2            3                         77\n",
       "3            4                         50\n",
       "4            5                         58\n",
       "5            6                         69\n",
       "6            7                         29\n",
       "7            8                         50\n",
       "8            9                         71\n",
       "9           10                         43"
      ]
     },
     "execution_count": 7,
     "metadata": {},
     "output_type": "execute_result"
    }
   ],
   "source": [
    "pd.DataFrame(d).head(10)"
   ]
  },
  {
   "cell_type": "code",
   "execution_count": null,
   "metadata": {
    "collapsed": true
   },
   "outputs": [],
   "source": []
  }
 ],
 "metadata": {
  "kernelspec": {
   "display_name": "Python 2",
   "language": "python",
   "name": "python2"
  },
  "language_info": {
   "codemirror_mode": {
    "name": "ipython",
    "version": 2
   },
   "file_extension": ".py",
   "mimetype": "text/x-python",
   "name": "python",
   "nbconvert_exporter": "python",
   "pygments_lexer": "ipython2",
   "version": "2.7.9"
  }
 },
 "nbformat": 4,
 "nbformat_minor": 0
}
